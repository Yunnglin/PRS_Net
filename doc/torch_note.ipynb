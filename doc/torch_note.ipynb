{
 "cells": [
  {
   "cell_type": "code",
   "execution_count": 2,
   "metadata": {},
   "outputs": [],
   "source": [
    "import torch\n",
    "import matplotlib as plt\n",
    "%matplotlib inline"
   ]
  },
  {
   "cell_type": "code",
   "execution_count": 6,
   "metadata": {
    "tags": []
   },
   "outputs": [
    {
     "name": "stdout",
     "output_type": "stream",
     "text": [
      "tensor([[5.0510e-39, 4.2246e-39, 1.0286e-38],\n",
      "        [1.0653e-38, 1.0194e-38, 8.4490e-39],\n",
      "        [1.0469e-38, 9.3674e-39, 9.9184e-39],\n",
      "        [8.7245e-39, 9.2755e-39, 8.9082e-39],\n",
      "        [9.9184e-39, 8.4490e-39, 9.6429e-39]])\n"
     ]
    }
   ],
   "source": [
    "x = torch.empty(5,3)\n",
    "print(x)"
   ]
  },
  {
   "cell_type": "code",
   "execution_count": 20,
   "metadata": {
    "tags": []
   },
   "outputs": [
    {
     "name": "stdout",
     "output_type": "stream",
     "text": [
      "tensor([[[ 1.7089, -0.5424, -0.0335],\n",
      "         [-0.8399,  0.2296, -0.6568],\n",
      "         [ 0.1277, -0.4404,  0.0933]],\n",
      "\n",
      "        [[ 0.6708, -0.4019, -1.5429],\n",
      "         [-0.3755, -0.3601, -0.7769],\n",
      "         [-0.6464,  0.7897,  0.6737]],\n",
      "\n",
      "        [[-0.7301, -0.9427,  1.0767],\n",
      "         [-0.8115, -1.0950, -0.0232],\n",
      "         [ 0.1493, -0.5743,  0.2097]],\n",
      "\n",
      "        [[-0.0483, -1.4432, -0.3215],\n",
      "         [-0.1638, -0.3851, -0.4453],\n",
      "         [-0.6400,  0.3886,  0.1858]],\n",
      "\n",
      "        [[-0.1385, -0.0276, -1.6734],\n",
      "         [-1.0308,  1.7437,  0.8106],\n",
      "         [ 0.4945, -0.8656, -1.2537]]])\n",
      "torch.return_types.max(\n",
      "values=tensor([[ 1.7089, -0.0276,  1.0767],\n",
      "        [-0.1638,  1.7437,  0.8106],\n",
      "        [ 0.4945,  0.7897,  0.6737]]),\n",
      "indices=tensor([[0, 4, 2],\n",
      "        [3, 4, 4],\n",
      "        [4, 1, 1]]))\n"
     ]
    }
   ],
   "source": [
    "x = torch.randn(5,3,3,dtype=torch.float)\n",
    "print(x)\n",
    "print(torch.max(x,dim=0))"
   ]
  },
  {
   "cell_type": "code",
   "execution_count": 9,
   "metadata": {
    "tags": []
   },
   "outputs": [
    {
     "name": "stdout",
     "output_type": "stream",
     "text": [
      "torch.Size([4, 4]) torch.Size([16]) torch.Size([2, 8])\n",
      "tensor([[ 1.4758, -0.8062,  0.5574,  1.1061],\n",
      "        [-2.2335,  0.8743,  0.6038, -1.0399],\n",
      "        [ 0.3204, -0.3666,  3.1134,  0.2464],\n",
      "        [-0.5373,  0.0087,  0.7361,  2.7307]])\n",
      "tensor([ 1.4758, -0.8062,  0.5574,  1.1061, -2.2335,  0.8743,  0.6038, -1.0399,\n",
      "         0.3204, -0.3666,  3.1134,  0.2464, -0.5373,  0.0087,  0.7361,  2.7307])\n",
      "tensor([[ 1.4758, -0.8062,  0.5574,  1.1061, -2.2335,  0.8743,  0.6038, -1.0399],\n",
      "        [ 0.3204, -0.3666,  3.1134,  0.2464, -0.5373,  0.0087,  0.7361,  2.7307]])\n"
     ]
    }
   ],
   "source": [
    "x = torch.randn(4, 4)\n",
    "# view to reshape a tensor\n",
    "y = x.view(16)\n",
    "z = x.view(2, -1)  # the size -1 is inferred from other dimensions\n",
    "print(x.size(), y.size(), z.size())\n",
    "print(x)\n",
    "print(y)\n",
    "print(z)"
   ]
  },
  {
   "cell_type": "code",
   "execution_count": 8,
   "metadata": {
    "tags": []
   },
   "outputs": [
    {
     "name": "stdout",
     "output_type": "stream",
     "text": [
      "tensor([2.2361, 2.2361])\n",
      "[[1. 1. 1. 1. 1.]\n",
      " [1. 1. 1. 1. 1.]]\n",
      "tensor([[2., 2., 2., 2., 2.],\n",
      "        [2., 2., 2., 2., 2.]])\n",
      "[[2. 2. 2. 2. 2.]\n",
      " [2. 2. 2. 2. 2.]]\n"
     ]
    }
   ],
   "source": [
    "# The Torch Tensor and NumPy array will share their underlying memory locations (if the Torch Tensor is on CPU), and changing one will change the other.\n",
    "a = torch.ones(2,5)\n",
    "b = a.numpy()\n",
    "print(torch.norm(a,dim=1,p=2))\n",
    "print(b)\n",
    "a.add_(1)\n",
    "print(a)\n",
    "print(b)"
   ]
  },
  {
   "cell_type": "code",
   "execution_count": 15,
   "metadata": {
    "tags": []
   },
   "outputs": [
    {
     "name": "stdout",
     "output_type": "stream",
     "text": [
      "[2. 2. 2. 2. 2.]\n",
      "tensor([2., 2., 2., 2., 2.], dtype=torch.float64)\n"
     ]
    }
   ],
   "source": [
    "import numpy as np\n",
    "a = np.ones(5)\n",
    "b = torch.from_numpy(a)\n",
    "np.add(a, 1, out=a)\n",
    "print(a)\n",
    "print(b)"
   ]
  },
  {
   "cell_type": "code",
   "execution_count": 3,
   "metadata": {
    "tags": []
   },
   "outputs": [
    {
     "name": "stdout",
     "output_type": "stream",
     "text": [
      "True\n"
     ]
    }
   ],
   "source": [
    "print(torch.cuda.is_available())"
   ]
  },
  {
   "cell_type": "code",
   "execution_count": null,
   "metadata": {},
   "outputs": [],
   "source": []
  }
 ],
 "metadata": {
  "kernelspec": {
   "display_name": "Python [conda env:torch]",
   "language": "python",
   "name": "conda-env-torch-py"
  },
  "language_info": {
   "codemirror_mode": {
    "name": "ipython",
    "version": 3
   },
   "file_extension": ".py",
   "mimetype": "text/x-python",
   "name": "python",
   "nbconvert_exporter": "python",
   "pygments_lexer": "ipython3",
   "version": "3.7.7"
  }
 },
 "nbformat": 4,
 "nbformat_minor": 2
}
